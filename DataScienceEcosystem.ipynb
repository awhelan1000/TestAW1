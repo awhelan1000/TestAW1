{
 "cells": [
  {
   "cell_type": "markdown",
   "id": "b849bd1a-7687-49d7-8b53-f32297d0d68b",
   "metadata": {},
   "source": [
    "<h1>Data Science Tools and Ecosystem<h1>"
   ]
  },
  {
   "cell_type": "markdown",
   "id": "374a43fa-6b3e-4fcf-9292-62b30bd23341",
   "metadata": {},
   "source": [
    "In this notebook, Data Science Tools and Ecosystem are summarized."
   ]
  },
  {
   "cell_type": "markdown",
   "id": "e7681fea-7456-4673-ba5b-ad5201f1baea",
   "metadata": {},
   "source": [
    "Some of the popular languages that Data Scientists use are:\n",
    "1. Python\n",
    "1. R\n",
    "1. SQL\n",
    "1. Julia\n",
    "1. Scala"
   ]
  },
  {
   "cell_type": "markdown",
   "id": "55901342-ec9a-42b6-a3ff-113c56dd01cd",
   "metadata": {},
   "source": [
    "Some of the commonly used libraries used by Data Scientists include:\n",
    "1. Scikit-Learn\n",
    "1. SciPy\n",
    "1. Keras\n",
    "1. Pandas\n",
    "1. NumPy"
   ]
  },
  {
   "cell_type": "markdown",
   "id": "2b42e482-5cd5-4eb3-a74d-a4c6c95ac018",
   "metadata": {
    "tags": []
   },
   "source": [
    "Data Science Tools \n",
    "<br>RStudio\n",
    "<br>TensorFlow\n",
    "<br>Apache Spark"
   ]
  },
  {
   "cell_type": "markdown",
   "id": "79f1d6d5-5ddc-4c7a-a4df-cf57b5fffe3b",
   "metadata": {},
   "source": [
    "Below are a few examples of evaluating arithmetic expressions in Python.\n"
   ]
  },
  {
   "cell_type": "markdown",
   "id": "d395bdc5-37ad-48cd-a449-a62766267f1f",
   "metadata": {
    "tags": []
   },
   "source": [
    "(3*4)+5"
   ]
  },
  {
   "cell_type": "markdown",
   "id": "e847817a-da0a-4f35-8d7b-88ae341104e9",
   "metadata": {},
   "source": [
    "This a simple arithmetic expression to mutiply then add integers."
   ]
  },
  {
   "cell_type": "code",
   "execution_count": 4,
   "id": "54f0e8dd-184d-4e20-ac4d-98b39f4b51ed",
   "metadata": {
    "tags": []
   },
   "outputs": [
    {
     "data": {
      "text/plain": [
       "17"
      ]
     },
     "execution_count": 4,
     "metadata": {},
     "output_type": "execute_result"
    }
   ],
   "source": [
    "(3*4)+5"
   ]
  },
  {
   "cell_type": "markdown",
   "id": "2a812252-fb6e-4908-8c5d-4ede60439613",
   "metadata": {},
   "source": [
    "This will convert 200 minutes to hours by diving by 60"
   ]
  },
  {
   "cell_type": "markdown",
   "id": "b50753fa-fdc0-4ef4-827a-43389830fa9e",
   "metadata": {
    "tags": []
   },
   "source": [
    "200/60"
   ]
  },
  {
   "cell_type": "code",
   "execution_count": 7,
   "id": "2dc0feeb-52df-43e8-9b2d-8be751529d7e",
   "metadata": {
    "tags": []
   },
   "outputs": [
    {
     "data": {
      "text/plain": [
       "3.3333333333333335"
      ]
     },
     "execution_count": 7,
     "metadata": {},
     "output_type": "execute_result"
    }
   ],
   "source": [
    "200/60"
   ]
  },
  {
   "cell_type": "markdown",
   "id": "127aa0a1-b45c-494d-a899-b73aacd6d38f",
   "metadata": {},
   "source": [
    "List popular languages for Data Science\n",
    "<b>Objectives:<br>\n",
    "* Popular Languages for data science\n",
    "* Commonly used languages for data science\n",
    "* Expressions in Python\n",
    "* 200 minutes to hours by dividing   "
   ]
  },
  {
   "cell_type": "markdown",
   "id": "3df67cbd-f590-4efe-b67b-bee1ee2a68b6",
   "metadata": {},
   "source": [
    "<h2>Author</h2><br>\n",
    "Andrew Whelan"
   ]
  },
  {
   "cell_type": "code",
   "execution_count": null,
   "id": "f94db22b-e59b-4b4a-b955-67704e7a4c1a",
   "metadata": {},
   "outputs": [],
   "source": []
  }
 ],
 "metadata": {
  "kernelspec": {
   "display_name": "Python",
   "language": "python",
   "name": "conda-env-python-py"
  },
  "language_info": {
   "codemirror_mode": {
    "name": "ipython",
    "version": 3
   },
   "file_extension": ".py",
   "mimetype": "text/x-python",
   "name": "python",
   "nbconvert_exporter": "python",
   "pygments_lexer": "ipython3",
   "version": "3.7.12"
  }
 },
 "nbformat": 4,
 "nbformat_minor": 5
}
